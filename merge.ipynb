{
  "nbformat": 4,
  "nbformat_minor": 0,
  "metadata": {
    "colab": {
      "name": "merge.ipynb",
      "provenance": [],
      "private_outputs": true,
      "collapsed_sections": [],
      "include_colab_link": true
    },
    "kernelspec": {
      "name": "python3",
      "display_name": "Python 3"
    }
  },
  "cells": [
    {
      "cell_type": "markdown",
      "metadata": {
        "id": "view-in-github",
        "colab_type": "text"
      },
      "source": [
        "<a href=\"https://colab.research.google.com/github/HaEunMok/Data-Visualization.github.io/blob/master/merge.ipynb\" target=\"_parent\"><img src=\"https://colab.research.google.com/assets/colab-badge.svg\" alt=\"Open In Colab\"/></a>"
      ]
    },
    {
      "cell_type": "code",
      "metadata": {
        "id": "gkif9o-xconm"
      },
      "source": [
        "from google.colab import drive\n",
        "drive.mount('/content/drive')"
      ],
      "execution_count": null,
      "outputs": []
    },
    {
      "cell_type": "code",
      "metadata": {
        "id": "jc5GGfFwcrE6"
      },
      "source": [
        "import csv\n",
        "import pandas as pd\n",
        "\n",
        "region_info=pd.read_csv(\"/content/drive/My Drive/corona_visualization/processed/coordinates.csv\")"
      ],
      "execution_count": null,
      "outputs": []
    },
    {
      "cell_type": "code",
      "metadata": {
        "id": "j5P8G8QxERa7"
      },
      "source": [
        "import pandas as pd\n",
        "import glob\n",
        "\n",
        "l = glob.glob('/content/drive/My Drive/corona_visualization/processed/fpopl_202001_*.csv')\n",
        "for i, path in enumerate(l): \n",
        "    print(path)\n",
        "    if i==0:#1번째 파일( 다른 파일을 뒤어 붙여줄 시초의 파일)\n",
        "        processed_data = pd.read_csv(path)\n",
        "    else:#그다음에 1번째 파일에 붙여질 파일들\n",
        "        data = pd.read_csv(path,header=None,skiprows=[0])#붙여질 파일\n",
        "        processed_data = pd.concat([processed_data, data])\n",
        "\n",
        "processed_data.to_csv('/content/drive/My Drive/corona_visualization/processed/merge_202001.csv',index=False)"
      ],
      "execution_count": null,
      "outputs": []
    },
    {
      "cell_type": "code",
      "metadata": {
        "id": "72P_cC6idLpD"
      },
      "source": [
        "data=pd.read_csv('/content/drive/My Drive/corona_visualization/processed/merge_202001.csv')"
      ],
      "execution_count": null,
      "outputs": []
    },
    {
      "cell_type": "code",
      "metadata": {
        "id": "wxlBJEJLdPy7"
      },
      "source": [
        "data.head()"
      ],
      "execution_count": null,
      "outputs": []
    },
    {
      "cell_type": "code",
      "metadata": {
        "id": "AVmsG92RFPQB"
      },
      "source": [
        "data=data.loc[:,[\"base_ymd\",\"tmzon_se_code\", \"sexdstn_se_code\", \"agrde_se_code\",\"adstrd_code\", \"popltn_cascnt\"]]"
      ],
      "execution_count": null,
      "outputs": []
    },
    {
      "cell_type": "code",
      "metadata": {
        "id": "FsIc8vT_GvfV"
      },
      "source": [
        "data.head()"
      ],
      "execution_count": null,
      "outputs": []
    },
    {
      "cell_type": "code",
      "metadata": {
        "id": "I7BM2gtWdCsc"
      },
      "source": [
        "region_info=region_info.rename({'코드':'adstrd_code'},axis='columns')"
      ],
      "execution_count": null,
      "outputs": []
    },
    {
      "cell_type": "code",
      "metadata": {
        "id": "1WluSI3tdKiX"
      },
      "source": [
        "region_info.head()"
      ],
      "execution_count": null,
      "outputs": []
    },
    {
      "cell_type": "markdown",
      "metadata": {
        "id": "il_NYOCGrYgF"
      },
      "source": [
        "### 그룹화 후에 위경도 합치기!"
      ]
    },
    {
      "cell_type": "code",
      "metadata": {
        "id": "z3-XznHxdaJY"
      },
      "source": [
        "df=pd.merge(data, region_info, on=\"adstrd_code\")"
      ],
      "execution_count": null,
      "outputs": []
    },
    {
      "cell_type": "code",
      "metadata": {
        "id": "z51Ev2nFq6CJ"
      },
      "source": [
        "df.head()"
      ],
      "execution_count": null,
      "outputs": []
    },
    {
      "cell_type": "code",
      "metadata": {
        "id": "ZSYnt_hedrom"
      },
      "source": [
        "df.head()\n",
        "df['adstrd_code']=df['adstrd_code'].astype(int)\n",
        "df['tmzon_se_code']=df['tmzon_se_code'].astype(int)\n",
        "df['base_ymd']=df['\tbase_ymd'].astype(int)\n",
        "df['popltn_cascnt']=df['popltn_cascnt'].astype(int)\n",
        "df.dtypes"
      ],
      "execution_count": null,
      "outputs": []
    },
    {
      "cell_type": "markdown",
      "metadata": {
        "id": "PWX_4FvTqx9x"
      },
      "source": [
        ""
      ]
    },
    {
      "cell_type": "code",
      "metadata": {
        "id": "8gv-lv91dvKn"
      },
      "source": [
        "df.to_csv('/content/drive/My Drive/corona_visualization/processed/merged_202001.csv')"
      ],
      "execution_count": null,
      "outputs": []
    }
  ]
}